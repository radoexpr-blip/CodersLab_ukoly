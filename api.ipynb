{
 "cells": [
  {
   "cell_type": "code",
   "execution_count": 1,
   "id": "c4b56c39-90a8-422c-ae7a-81c2e39f2b82",
   "metadata": {},
   "outputs": [
    {
     "name": "stdout",
     "output_type": "stream",
     "text": [
      "EURAUD rate is currently 1.762819\n"
     ]
    }
   ],
   "source": [
    "import requests\n",
    "\n",
    "# Edit here!\n",
    "APIKEY = '20d00de727ad5d78a7bc1d29e28e1c32'\n",
    "\n",
    "response = requests.get(f'https://api.openweathermap.org/data/2.5/weather?q=London&appid={APIKEY}')\n",
    "\n",
    "response = requests.get(f'http://api.exchangeratesapi.io/latest?access_key={APIKEY}')\n",
    "\n",
    "if response.json()['success']:\n",
    "    print('EURAUD rate is currently', response.json()['rates']['AUD'])\n",
    "else:\n",
    "    print('Error:', response.json()['error']['info'])\n",
    "    \n",
    "    "
   ]
  },
  {
   "cell_type": "code",
   "execution_count": null,
   "id": "dd0ee4bf-8359-4b08-9ebe-b02defaab663",
   "metadata": {},
   "outputs": [],
   "source": []
  }
 ],
 "metadata": {
  "kernelspec": {
   "display_name": "Python [conda env:base] *",
   "language": "python",
   "name": "conda-base-py"
  },
  "language_info": {
   "codemirror_mode": {
    "name": "ipython",
    "version": 3
   },
   "file_extension": ".py",
   "mimetype": "text/x-python",
   "name": "python",
   "nbconvert_exporter": "python",
   "pygments_lexer": "ipython3",
   "version": "3.13.5"
  }
 },
 "nbformat": 4,
 "nbformat_minor": 5
}
