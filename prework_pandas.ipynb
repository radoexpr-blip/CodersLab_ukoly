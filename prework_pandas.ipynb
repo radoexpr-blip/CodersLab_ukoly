{
 "cells": [
  {
   "cell_type": "code",
   "execution_count": 1,
   "id": "6e49a79e-e226-47dc-b5e7-c61dc75913c7",
   "metadata": {},
   "outputs": [
    {
     "name": "stdout",
     "output_type": "stream",
     "text": [
      "Requirement already satisfied: pandas in d:\\program files\\anaconda\\lib\\site-packages (2.2.3)\n",
      "Requirement already satisfied: numpy>=1.26.0 in d:\\program files\\anaconda\\lib\\site-packages (from pandas) (2.1.3)\n",
      "Requirement already satisfied: python-dateutil>=2.8.2 in d:\\program files\\anaconda\\lib\\site-packages (from pandas) (2.9.0.post0)\n",
      "Requirement already satisfied: pytz>=2020.1 in d:\\program files\\anaconda\\lib\\site-packages (from pandas) (2024.1)\n",
      "Requirement already satisfied: tzdata>=2022.7 in d:\\program files\\anaconda\\lib\\site-packages (from pandas) (2025.2)\n",
      "Requirement already satisfied: six>=1.5 in d:\\program files\\anaconda\\lib\\site-packages (from python-dateutil>=2.8.2->pandas) (1.17.0)\n"
     ]
    }
   ],
   "source": [
    "!pip install pandas"
   ]
  },
  {
   "cell_type": "code",
   "execution_count": 2,
   "id": "1f46839a-c736-4be7-8537-9e4feba5e900",
   "metadata": {},
   "outputs": [
    {
     "name": "stdout",
     "output_type": "stream",
     "text": [
      "Name: pandas\n",
      "Version: 2.2.3\n",
      "Summary: Powerful data structures for data analysis, time series, and statistics\n",
      "Home-page: https://pandas.pydata.org\n",
      "Author: \n",
      "Author-email: The Pandas Development Team <pandas-dev@python.org>\n",
      "License: BSD 3-Clause License\n",
      "\n",
      " Copyright (c) 2008-2011, AQR Capital Management, LLC, Lambda Foundry, Inc. and PyData Development Team\n",
      " All rights reserved.\n",
      "\n",
      " Copyright (c) 2011-2023, Open source contributors.\n",
      "\n",
      " Redistribution and use in source and binary forms, with or without\n",
      " modification, are permitted provided that the following conditions are met:\n",
      "\n",
      " * Redistributions of source code must retain the above copyright notice, this\n",
      "   list of conditions and the following disclaimer.\n",
      "\n",
      " * Redistributions in binary form must reproduce the above copyright notice,\n",
      "   this list of conditions and the following disclaimer in the documentation\n",
      "   and/or other materials provided with the distribution.\n",
      "\n",
      " * Neither the name of the copyright holder nor the names of its\n",
      "   contributors may be used to endorse or promote products derived from\n",
      "   this software without specific prior written permission.\n",
      "\n",
      " THIS SOFTWARE IS PROVIDED BY THE COPYRIGHT HOLDERS AND CONTRIBUTORS \"AS IS\"\n",
      " AND ANY EXPRESS OR IMPLIED WARRANTIES, INCLUDING, BUT NOT LIMITED TO, THE\n",
      " IMPLIED WARRANTIES OF MERCHANTABILITY AND FITNESS FOR A PARTICULAR PURPOSE ARE\n",
      " DISCLAIMED. IN NO EVENT SHALL THE COPYRIGHT HOLDER OR CONTRIBUTORS BE LIABLE\n",
      " FOR ANY DIRECT, INDIRECT, INCIDENTAL, SPECIAL, EXEMPLARY, OR CONSEQUENTIAL\n",
      " DAMAGES (INCLUDING, BUT NOT LIMITED TO, PROCUREMENT OF SUBSTITUTE GOODS OR\n",
      " SERVICES; LOSS OF USE, DATA, OR PROFITS; OR BUSINESS INTERRUPTION) HOWEVER\n",
      " CAUSED AND ON ANY THEORY OF LIABILITY, WHETHER IN CONTRACT, STRICT LIABILITY,\n",
      " OR TORT (INCLUDING NEGLIGENCE OR OTHERWISE) ARISING IN ANY WAY OUT OF THE USE\n",
      " OF THIS SOFTWARE, EVEN IF ADVISED OF THE POSSIBILITY OF SUCH DAMAGE.\n",
      "\n",
      "Location: D:\\Program Files\\ANACONDA\\Lib\\site-packages\n",
      "Requires: numpy, python-dateutil, pytz, tzdata\n",
      "Required-by: bokeh, datashader, holoviews, hvplot, panel, seaborn, statsmodels, streamlit, xarray\n"
     ]
    }
   ],
   "source": [
    "!pip show pandas"
   ]
  },
  {
   "cell_type": "code",
   "execution_count": 14,
   "id": "204fe85c-809e-4043-8c3e-620c5c4f30ec",
   "metadata": {},
   "outputs": [
    {
     "name": "stdout",
     "output_type": "stream",
     "text": [
      "              province                      product_types currency  group_id  \\\n",
      "0         SUBCARPATHIA                                NaN      PLN         2   \n",
      "1                 ŁÓDŹ                                NaN      PLN         4   \n",
      "2    KUYAVIA-POMERANIA                                NaN      PLN         2   \n",
      "3        LOWER SILESIA                                NaN      PLN         2   \n",
      "4       WARMIA-MASURIA                                NaN      PLN         2   \n",
      "..                 ...                                ...      ...       ...   \n",
      "994            MASOVIA                                NaN      PLN         2   \n",
      "995     GREATER POLAND  white table salt bagged - per 1kg      PLN         3   \n",
      "996               ŁÓDŹ                                NaN      PLN         4   \n",
      "997              OPOLE                                NaN      PLN         2   \n",
      "998             POLAND                                NaN      PLN         4   \n",
      "\n",
      "                                         product_line  value     date  \n",
      "0                           pork ham cooked - per 1kg  21.37   2013-3  \n",
      "1                                     bread - per 1kg    NaN   2018-2  \n",
      "2                     barley groats sausage - per 1kg   3.55  2019-12  \n",
      "3                          dressed chickens - per 1kg   6.14   2019-2  \n",
      "4                       Italian head cheese - per 1kg   5.63   2002-3  \n",
      "..                                                ...    ...      ...  \n",
      "994  pork  with bone (center-cut pork chop) - per 1kg  14.58   2019-1  \n",
      "995                                               NaN   0.00  2012-11  \n",
      "996          buckwheat groats roasted whole - per 1kg   0.00   2004-1  \n",
      "997                  fresh non-dressed carp - per 1kg   0.00   2000-9  \n",
      "998          buckwheat groats roasted whole - per 1kg   3.88   2007-1  \n",
      "\n",
      "[999 rows x 7 columns]\n",
      "Percentily:\n",
      "0.0       0.00\n",
      "0.1       0.00\n",
      "0.2       0.00\n",
      "0.3       0.28\n",
      "0.4       1.55\n",
      "0.5       3.09\n",
      "0.6       5.75\n",
      "0.7       9.16\n",
      "0.8      12.73\n",
      "0.9      17.19\n",
      "1.0    3000.00\n",
      "Name: value, dtype: float64\n",
      "0%: 0.00\n",
      "10%: 0.00\n",
      "20%: 0.00\n",
      "30%: 0.28\n",
      "40%: 1.55\n",
      "50%: 3.09\n",
      "60%: 5.75\n",
      "70%: 9.16\n",
      "80%: 12.73\n",
      "90%: 17.19\n",
      "100%: 3000.00\n"
     ]
    }
   ],
   "source": [
    "import pandas as pd\n",
    "# Načtení CSV souboru\n",
    "df = pd.read_csv(\"ukol_pandas\\product_prices.csv\", sep=\";\", decimal=\".\")\n",
    "# Přejmenování sloupců\n",
    "df.columns = ['province', 'product_types', 'currency', 'group_id', 'product_line', 'value', 'date']\n",
    "mean = df[\"value\"].mean()\n",
    "std = df[\"value\"].std()\n",
    "percentiles = df[\"value\"].quantile([0.0, 0.1, 0.2, 0.3, 0.4, 0.5, 0.6, 0.7, 0.8, 0.9, 1.0])\n",
    "\n",
    "\n",
    "# Zobrazení prvních pár řádků pro kontrolu\n",
    "print(df.head(999))\n",
    "\n",
    "print(\"Percentily:\")\n",
    "print(percentiles)\n",
    "\n",
    "for p in percentiles.index:\n",
    "    print(f\"{int(p*100)}%: {percentiles[p]:.2f}\")\n",
    "\n",
    "\n",
    "\n",
    "    \n",
    "\n",
    "\n",
    "\n",
    "\n",
    "\n"
   ]
  },
  {
   "cell_type": "code",
   "execution_count": null,
   "id": "fdb315a0-2b62-4c30-a9e5-128c39c492aa",
   "metadata": {},
   "outputs": [],
   "source": []
  }
 ],
 "metadata": {
  "kernelspec": {
   "display_name": "Python [conda env:base] *",
   "language": "python",
   "name": "conda-base-py"
  },
  "language_info": {
   "codemirror_mode": {
    "name": "ipython",
    "version": 3
   },
   "file_extension": ".py",
   "mimetype": "text/x-python",
   "name": "python",
   "nbconvert_exporter": "python",
   "pygments_lexer": "ipython3",
   "version": "3.13.5"
  }
 },
 "nbformat": 4,
 "nbformat_minor": 5
}
